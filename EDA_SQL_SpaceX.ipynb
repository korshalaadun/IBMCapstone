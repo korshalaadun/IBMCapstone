{
 "cells": [
  {
   "cell_type": "markdown",
   "id": "d2aa4831",
   "metadata": {},
   "source": [
    "\n",
    "# EDA with SQL — SpaceX Launches (SQLite)\n",
    "\n",
    "**Author:** Iliya Pezeshki  \n",
    "**Course:** IBM Data Science Professional Certificate — Capstone  \n",
    "\n",
    "**Objective:** Load the SpaceX CSV dataset into SQLite and perform EDA-style queries to summarize launch activity, payloads, mission outcomes, and trends.\n"
   ]
  },
  {
   "cell_type": "markdown",
   "id": "135d2adb",
   "metadata": {},
   "source": [
    "## 1) Environment Setup"
   ]
  },
  {
   "cell_type": "code",
   "execution_count": 10,
   "id": "d1ee0801",
   "metadata": {},
   "outputs": [
    {
     "name": "stdout",
     "output_type": "stream",
     "text": [
      "The sql extension is already loaded. To reload it, use:\n",
      "  %reload_ext sql\n",
      "SQLite DB initialized at c:\\Users\\USER\\Downloads\\my_spacex.db\n"
     ]
    }
   ],
   "source": [
    "%load_ext sql\n",
    "import pandas as pd, sqlite3, os\n",
    "\n",
    "db_path = \"my_spacex.db\"\n",
    "with sqlite3.connect(db_path) as con:\n",
    "    # load CSV\n",
    "    CSV_URL = \"https://cf-courses-data.s3.us.cloud-object-storage.appdomain.cloud/IBM-DS0321EN-SkillsNetwork/labs/module_2/data/Spacex.csv\"\n",
    "    df = pd.read_csv(CSV_URL)\n",
    "    df.to_sql(\"SPACEXTBL\", con, if_exists=\"replace\", index=False, method=\"multi\")\n",
    "\n",
    "# point the sql extension at the DB\n",
    "%sql sqlite:///my_spacex.db\n",
    "print(\"SQLite DB initialized at\", os.path.abspath(db_path))"
   ]
  },
  {
   "cell_type": "markdown",
   "id": "2acfe317",
   "metadata": {},
   "source": [
    "## 2) Load CSV into SQLite"
   ]
  },
  {
   "cell_type": "code",
   "execution_count": 11,
   "id": "00bd95bb",
   "metadata": {},
   "outputs": [
    {
     "name": "stdout",
     "output_type": "stream",
     "text": [
      " * sqlite:///my_spacex.db\n",
      "Done.\n",
      "Done.\n",
      "(sqlite3.OperationalError) near \"%\": syntax error\n",
      "[SQL: %%sql\n",
      "SELECT DISTINCT Launch_Site FROM SPACEXTABLE;]\n",
      "(Background on this error at: http://sqlalche.me/e/14/e3q8)\n"
     ]
    }
   ],
   "source": [
    "%%sql\n",
    "DROP TABLE IF EXISTS SPACEXTABLE;\n",
    "CREATE TABLE SPACEXTABLE AS\n",
    "SELECT * FROM SPACEXTBL WHERE Date IS NOT NULL;\n",
    "%%sql\n",
    "SELECT DISTINCT Launch_Site FROM SPACEXTABLE;"
   ]
  },
  {
   "cell_type": "markdown",
   "id": "9d935dd9",
   "metadata": {},
   "source": [
    "## 3) Quick Peek"
   ]
  },
  {
   "cell_type": "code",
   "execution_count": 12,
   "id": "b2a3893d",
   "metadata": {},
   "outputs": [
    {
     "name": "stdout",
     "output_type": "stream",
     "text": [
      " * sqlite:///my_spacex.db\n",
      "Done.\n"
     ]
    },
    {
     "data": {
      "text/html": [
       "<table>\n",
       "    <tr>\n",
       "        <th>Date</th>\n",
       "        <th>Time (UTC)</th>\n",
       "        <th>Booster_Version</th>\n",
       "        <th>Launch_Site</th>\n",
       "        <th>Payload</th>\n",
       "        <th>PAYLOAD_MASS__KG_</th>\n",
       "        <th>Orbit</th>\n",
       "        <th>Customer</th>\n",
       "        <th>Mission_Outcome</th>\n",
       "        <th>Landing_Outcome</th>\n",
       "    </tr>\n",
       "    <tr>\n",
       "        <td>2010-06-04</td>\n",
       "        <td>18:45:00</td>\n",
       "        <td>F9 v1.0  B0003</td>\n",
       "        <td>CCAFS LC-40</td>\n",
       "        <td>Dragon Spacecraft Qualification Unit</td>\n",
       "        <td>0</td>\n",
       "        <td>LEO</td>\n",
       "        <td>SpaceX</td>\n",
       "        <td>Success</td>\n",
       "        <td>Failure (parachute)</td>\n",
       "    </tr>\n",
       "    <tr>\n",
       "        <td>2010-12-08</td>\n",
       "        <td>15:43:00</td>\n",
       "        <td>F9 v1.0  B0004</td>\n",
       "        <td>CCAFS LC-40</td>\n",
       "        <td>Dragon demo flight C1, two CubeSats, barrel of Brouere cheese</td>\n",
       "        <td>0</td>\n",
       "        <td>LEO (ISS)</td>\n",
       "        <td>NASA (COTS) NRO</td>\n",
       "        <td>Success</td>\n",
       "        <td>Failure (parachute)</td>\n",
       "    </tr>\n",
       "    <tr>\n",
       "        <td>2012-05-22</td>\n",
       "        <td>7:44:00</td>\n",
       "        <td>F9 v1.0  B0005</td>\n",
       "        <td>CCAFS LC-40</td>\n",
       "        <td>Dragon demo flight C2</td>\n",
       "        <td>525</td>\n",
       "        <td>LEO (ISS)</td>\n",
       "        <td>NASA (COTS)</td>\n",
       "        <td>Success</td>\n",
       "        <td>No attempt</td>\n",
       "    </tr>\n",
       "    <tr>\n",
       "        <td>2012-10-08</td>\n",
       "        <td>0:35:00</td>\n",
       "        <td>F9 v1.0  B0006</td>\n",
       "        <td>CCAFS LC-40</td>\n",
       "        <td>SpaceX CRS-1</td>\n",
       "        <td>500</td>\n",
       "        <td>LEO (ISS)</td>\n",
       "        <td>NASA (CRS)</td>\n",
       "        <td>Success</td>\n",
       "        <td>No attempt</td>\n",
       "    </tr>\n",
       "    <tr>\n",
       "        <td>2013-03-01</td>\n",
       "        <td>15:10:00</td>\n",
       "        <td>F9 v1.0  B0007</td>\n",
       "        <td>CCAFS LC-40</td>\n",
       "        <td>SpaceX CRS-2</td>\n",
       "        <td>677</td>\n",
       "        <td>LEO (ISS)</td>\n",
       "        <td>NASA (CRS)</td>\n",
       "        <td>Success</td>\n",
       "        <td>No attempt</td>\n",
       "    </tr>\n",
       "</table>"
      ],
      "text/plain": [
       "[('2010-06-04', '18:45:00', 'F9 v1.0  B0003', 'CCAFS LC-40', 'Dragon Spacecraft Qualification Unit', 0, 'LEO', 'SpaceX', 'Success', 'Failure (parachute)'),\n",
       " ('2010-12-08', '15:43:00', 'F9 v1.0  B0004', 'CCAFS LC-40', 'Dragon demo flight C1, two CubeSats, barrel of Brouere cheese', 0, 'LEO (ISS)', 'NASA (COTS) NRO', 'Success', 'Failure (parachute)'),\n",
       " ('2012-05-22', '7:44:00', 'F9 v1.0  B0005', 'CCAFS LC-40', 'Dragon demo flight C2', 525, 'LEO (ISS)', 'NASA (COTS)', 'Success', 'No attempt'),\n",
       " ('2012-10-08', '0:35:00', 'F9 v1.0  B0006', 'CCAFS LC-40', 'SpaceX CRS-1', 500, 'LEO (ISS)', 'NASA (CRS)', 'Success', 'No attempt'),\n",
       " ('2013-03-01', '15:10:00', 'F9 v1.0  B0007', 'CCAFS LC-40', 'SpaceX CRS-2', 677, 'LEO (ISS)', 'NASA (CRS)', 'Success', 'No attempt')]"
      ]
     },
     "execution_count": 12,
     "metadata": {},
     "output_type": "execute_result"
    }
   ],
   "source": [
    "\n",
    "%sql SELECT * FROM SPACEXTABLE LIMIT 5;"
   ]
  },
  {
   "cell_type": "markdown",
   "id": "f16fb164",
   "metadata": {},
   "source": [
    "## 4) Distinct Launch Sites"
   ]
  },
  {
   "cell_type": "code",
   "execution_count": 13,
   "id": "81d54cdd",
   "metadata": {},
   "outputs": [
    {
     "name": "stdout",
     "output_type": "stream",
     "text": [
      " * sqlite:///my_spacex.db\n",
      "Done.\n"
     ]
    },
    {
     "data": {
      "text/html": [
       "<table>\n",
       "    <tr>\n",
       "        <th>Launch_Site</th>\n",
       "    </tr>\n",
       "    <tr>\n",
       "        <td>CCAFS LC-40</td>\n",
       "    </tr>\n",
       "    <tr>\n",
       "        <td>VAFB SLC-4E</td>\n",
       "    </tr>\n",
       "    <tr>\n",
       "        <td>KSC LC-39A</td>\n",
       "    </tr>\n",
       "    <tr>\n",
       "        <td>CCAFS SLC-40</td>\n",
       "    </tr>\n",
       "</table>"
      ],
      "text/plain": [
       "[('CCAFS LC-40',), ('VAFB SLC-4E',), ('KSC LC-39A',), ('CCAFS SLC-40',)]"
      ]
     },
     "execution_count": 13,
     "metadata": {},
     "output_type": "execute_result"
    }
   ],
   "source": [
    "\n",
    "%sql SELECT DISTINCT Launch_Site FROM SPACEXTABLE;"
   ]
  },
  {
   "cell_type": "markdown",
   "id": "648fa1f7",
   "metadata": {},
   "source": [
    "## 5) Launch Counts by Site"
   ]
  },
  {
   "cell_type": "code",
   "execution_count": 18,
   "id": "a079175f",
   "metadata": {},
   "outputs": [
    {
     "name": "stdout",
     "output_type": "stream",
     "text": [
      " * sqlite:///my_spacex.db\n",
      "Done.\n"
     ]
    },
    {
     "data": {
      "text/html": [
       "<table>\n",
       "    <tr>\n",
       "        <th>Launch_Site</th>\n",
       "        <th>Launch_Count</th>\n",
       "    </tr>\n",
       "    <tr>\n",
       "        <td>CCAFS SLC-40</td>\n",
       "        <td>34</td>\n",
       "    </tr>\n",
       "    <tr>\n",
       "        <td>CCAFS LC-40</td>\n",
       "        <td>26</td>\n",
       "    </tr>\n",
       "    <tr>\n",
       "        <td>KSC LC-39A</td>\n",
       "        <td>25</td>\n",
       "    </tr>\n",
       "    <tr>\n",
       "        <td>VAFB SLC-4E</td>\n",
       "        <td>16</td>\n",
       "    </tr>\n",
       "</table>"
      ],
      "text/plain": [
       "[('CCAFS SLC-40', 34),\n",
       " ('CCAFS LC-40', 26),\n",
       " ('KSC LC-39A', 25),\n",
       " ('VAFB SLC-4E', 16)]"
      ]
     },
     "execution_count": 18,
     "metadata": {},
     "output_type": "execute_result"
    }
   ],
   "source": [
    "%%sql\n",
    "SELECT Launch_Site, COUNT(*) AS Launch_Count\n",
    "FROM SPACEXTABLE\n",
    "GROUP BY Launch_Site\n",
    "ORDER BY Launch_Count DESC;"
   ]
  },
  {
   "cell_type": "markdown",
   "id": "392b2078",
   "metadata": {},
   "source": [
    "## 6) Min/Max Payload Mass (kg)"
   ]
  },
  {
   "cell_type": "code",
   "execution_count": 20,
   "id": "19b06e26",
   "metadata": {},
   "outputs": [
    {
     "name": "stdout",
     "output_type": "stream",
     "text": [
      " * sqlite:///my_spacex.db\n",
      "Done.\n"
     ]
    },
    {
     "data": {
      "text/html": [
       "<table>\n",
       "    <tr>\n",
       "        <th>Min_Payload</th>\n",
       "        <th>Max_Payload</th>\n",
       "    </tr>\n",
       "    <tr>\n",
       "        <td>0</td>\n",
       "        <td>15600</td>\n",
       "    </tr>\n",
       "</table>"
      ],
      "text/plain": [
       "[(0, 15600)]"
      ]
     },
     "execution_count": 20,
     "metadata": {},
     "output_type": "execute_result"
    }
   ],
   "source": [
    "%%sql\n",
    "-- column name is PAYLOAD_MASS__KG_\n",
    "SELECT\n",
    "  MIN(PAYLOAD_MASS__KG_) AS Min_Payload,\n",
    "  MAX(PAYLOAD_MASS__KG_) AS Max_Payload\n",
    "FROM SPACEXTABLE;"
   ]
  },
  {
   "cell_type": "markdown",
   "id": "7da7afd8",
   "metadata": {},
   "source": [
    "## 7) Average Payload Mass by Orbit"
   ]
  },
  {
   "cell_type": "code",
   "execution_count": 22,
   "id": "2ac65667",
   "metadata": {},
   "outputs": [
    {
     "name": "stdout",
     "output_type": "stream",
     "text": [
      " * sqlite:///my_spacex.db\n",
      "Done.\n"
     ]
    },
    {
     "data": {
      "text/html": [
       "<table>\n",
       "    <tr>\n",
       "        <th>Orbit</th>\n",
       "        <th>Avg_Payload_kg</th>\n",
       "        <th>Missions</th>\n",
       "    </tr>\n",
       "    <tr>\n",
       "        <td>Sub-orbital</td>\n",
       "        <td>12050.0</td>\n",
       "        <td>1</td>\n",
       "    </tr>\n",
       "    <tr>\n",
       "        <td>LEO</td>\n",
       "        <td>11063.5</td>\n",
       "        <td>25</td>\n",
       "    </tr>\n",
       "    <tr>\n",
       "        <td>Polar LEO</td>\n",
       "        <td>8070.0</td>\n",
       "        <td>8</td>\n",
       "    </tr>\n",
       "    <tr>\n",
       "        <td>GTO</td>\n",
       "        <td>5001.3</td>\n",
       "        <td>30</td>\n",
       "    </tr>\n",
       "    <tr>\n",
       "        <td>MEO</td>\n",
       "        <td>4340.7</td>\n",
       "        <td>3</td>\n",
       "    </tr>\n",
       "    <tr>\n",
       "        <td>LEO (ISS)</td>\n",
       "        <td>3300.9</td>\n",
       "        <td>26</td>\n",
       "    </tr>\n",
       "    <tr>\n",
       "        <td>SSO</td>\n",
       "        <td>2825.8</td>\n",
       "        <td>6</td>\n",
       "    </tr>\n",
       "    <tr>\n",
       "        <td>HEO</td>\n",
       "        <td>466.0</td>\n",
       "        <td>2</td>\n",
       "    </tr>\n",
       "</table>"
      ],
      "text/plain": [
       "[('Sub-orbital', 12050.0, 1),\n",
       " ('LEO', 11063.5, 25),\n",
       " ('Polar LEO', 8070.0, 8),\n",
       " ('GTO', 5001.3, 30),\n",
       " ('MEO', 4340.7, 3),\n",
       " ('LEO (ISS)', 3300.9, 26),\n",
       " ('SSO', 2825.8, 6),\n",
       " ('HEO', 466.0, 2)]"
      ]
     },
     "execution_count": 22,
     "metadata": {},
     "output_type": "execute_result"
    }
   ],
   "source": [
    "%%sql\n",
    "SELECT Orbit,\n",
    "       ROUND(AVG(PAYLOAD_MASS__KG_),1) AS Avg_Payload_kg,\n",
    "       COUNT(*) AS Missions\n",
    "FROM SPACEXTABLE\n",
    "GROUP BY Orbit\n",
    "HAVING Missions >= 1\n",
    "ORDER BY Avg_Payload_kg DESC;"
   ]
  },
  {
   "cell_type": "markdown",
   "id": "f62f10f7",
   "metadata": {},
   "source": [
    "## 8) Mission Outcome Counts per Launch Site"
   ]
  },
  {
   "cell_type": "code",
   "execution_count": 23,
   "id": "1ee0ef1b",
   "metadata": {},
   "outputs": [
    {
     "name": "stdout",
     "output_type": "stream",
     "text": [
      " * sqlite:///my_spacex.db\n",
      "Done.\n"
     ]
    },
    {
     "data": {
      "text/html": [
       "<table>\n",
       "    <tr>\n",
       "        <th>Launch_Site</th>\n",
       "        <th>Mission_Outcome</th>\n",
       "        <th>Outcome_Count</th>\n",
       "    </tr>\n",
       "    <tr>\n",
       "        <td>CCAFS LC-40</td>\n",
       "        <td>Success</td>\n",
       "        <td>25</td>\n",
       "    </tr>\n",
       "    <tr>\n",
       "        <td>CCAFS LC-40</td>\n",
       "        <td>Failure (in flight)</td>\n",
       "        <td>1</td>\n",
       "    </tr>\n",
       "    <tr>\n",
       "        <td>CCAFS SLC-40</td>\n",
       "        <td>Success</td>\n",
       "        <td>32</td>\n",
       "    </tr>\n",
       "    <tr>\n",
       "        <td>CCAFS SLC-40</td>\n",
       "        <td>Success (payload status unclear)</td>\n",
       "        <td>1</td>\n",
       "    </tr>\n",
       "    <tr>\n",
       "        <td>CCAFS SLC-40</td>\n",
       "        <td>Success </td>\n",
       "        <td>1</td>\n",
       "    </tr>\n",
       "    <tr>\n",
       "        <td>KSC LC-39A</td>\n",
       "        <td>Success</td>\n",
       "        <td>25</td>\n",
       "    </tr>\n",
       "    <tr>\n",
       "        <td>VAFB SLC-4E</td>\n",
       "        <td>Success</td>\n",
       "        <td>16</td>\n",
       "    </tr>\n",
       "</table>"
      ],
      "text/plain": [
       "[('CCAFS LC-40', 'Success', 25),\n",
       " ('CCAFS LC-40', 'Failure (in flight)', 1),\n",
       " ('CCAFS SLC-40', 'Success', 32),\n",
       " ('CCAFS SLC-40', 'Success (payload status unclear)', 1),\n",
       " ('CCAFS SLC-40', 'Success ', 1),\n",
       " ('KSC LC-39A', 'Success', 25),\n",
       " ('VAFB SLC-4E', 'Success', 16)]"
      ]
     },
     "execution_count": 23,
     "metadata": {},
     "output_type": "execute_result"
    }
   ],
   "source": [
    "%%sql\n",
    "SELECT Launch_Site,\n",
    "       Mission_Outcome,\n",
    "       COUNT(*) AS Outcome_Count\n",
    "FROM SPACEXTABLE\n",
    "GROUP BY Launch_Site, Mission_Outcome\n",
    "ORDER BY Launch_Site, Outcome_Count DESC;"
   ]
  },
  {
   "cell_type": "markdown",
   "id": "c51179f2",
   "metadata": {},
   "source": [
    "## 9) Derived Success Rate by Launch Site"
   ]
  },
  {
   "cell_type": "code",
   "execution_count": 24,
   "id": "974c84c0",
   "metadata": {},
   "outputs": [
    {
     "name": "stdout",
     "output_type": "stream",
     "text": [
      "Done.\n"
     ]
    },
    {
     "data": {
      "text/html": [
       "<table>\n",
       "    <tr>\n",
       "        <th>Launch_Site</th>\n",
       "        <th>Success_Rate</th>\n",
       "        <th>Missions</th>\n",
       "    </tr>\n",
       "    <tr>\n",
       "        <td>VAFB SLC-4E</td>\n",
       "        <td>1.0</td>\n",
       "        <td>16</td>\n",
       "    </tr>\n",
       "    <tr>\n",
       "        <td>KSC LC-39A</td>\n",
       "        <td>1.0</td>\n",
       "        <td>25</td>\n",
       "    </tr>\n",
       "    <tr>\n",
       "        <td>CCAFS SLC-40</td>\n",
       "        <td>1.0</td>\n",
       "        <td>34</td>\n",
       "    </tr>\n",
       "    <tr>\n",
       "        <td>CCAFS LC-40</td>\n",
       "        <td>0.962</td>\n",
       "        <td>26</td>\n",
       "    </tr>\n",
       "</table>"
      ],
      "text/plain": [
       "[('VAFB SLC-4E', 1.0, 16),\n",
       " ('KSC LC-39A', 1.0, 25),\n",
       " ('CCAFS SLC-40', 1.0, 34),\n",
       " ('CCAFS LC-40', 0.962, 26)]"
      ]
     },
     "execution_count": 24,
     "metadata": {},
     "output_type": "execute_result"
    }
   ],
   "source": [
    "%%sql sqlite:///my_spacex.db\n",
    "SELECT Launch_Site,\n",
    "       ROUND(AVG(CASE WHEN Mission_Outcome LIKE 'Success%' THEN 1 ELSE 0 END), 3) AS Success_Rate,\n",
    "       COUNT(*) AS Missions\n",
    "FROM SPACEXTABLE\n",
    "GROUP BY Launch_Site\n",
    "ORDER BY Success_Rate DESC;\n"
   ]
  },
  {
   "cell_type": "markdown",
   "id": "b3a43a6f",
   "metadata": {},
   "source": [
    "## 10) Launch Counts by Orbit"
   ]
  },
  {
   "cell_type": "code",
   "execution_count": null,
   "id": "f1b71937",
   "metadata": {},
   "outputs": [],
   "source": []
  },
  {
   "cell_type": "markdown",
   "id": "2cd8e623",
   "metadata": {},
   "source": [
    "## 11) Top 5 Heaviest Payload Missions"
   ]
  },
  {
   "cell_type": "code",
   "execution_count": 25,
   "id": "5cbe5b00",
   "metadata": {},
   "outputs": [
    {
     "name": "stdout",
     "output_type": "stream",
     "text": [
      " * sqlite:///my_spacex.db\n",
      "Done.\n"
     ]
    },
    {
     "data": {
      "text/html": [
       "<table>\n",
       "    <tr>\n",
       "        <th>Launch_Site</th>\n",
       "        <th>Booster_Version</th>\n",
       "        <th>Orbit</th>\n",
       "        <th>Payload_kg</th>\n",
       "        <th>Mission_Outcome</th>\n",
       "    </tr>\n",
       "    <tr>\n",
       "        <td>CCAFS SLC-40</td>\n",
       "        <td>F9 B5 B1048.4</td>\n",
       "        <td>LEO</td>\n",
       "        <td>15600</td>\n",
       "        <td>Success</td>\n",
       "    </tr>\n",
       "    <tr>\n",
       "        <td>CCAFS SLC-40</td>\n",
       "        <td>F9 B5 B1049.4</td>\n",
       "        <td>LEO</td>\n",
       "        <td>15600</td>\n",
       "        <td>Success</td>\n",
       "    </tr>\n",
       "    <tr>\n",
       "        <td>CCAFS SLC-40</td>\n",
       "        <td>F9 B5 B1051.3</td>\n",
       "        <td>LEO</td>\n",
       "        <td>15600</td>\n",
       "        <td>Success</td>\n",
       "    </tr>\n",
       "    <tr>\n",
       "        <td>CCAFS SLC-40</td>\n",
       "        <td>F9 B5 B1056.4</td>\n",
       "        <td>LEO</td>\n",
       "        <td>15600</td>\n",
       "        <td>Success</td>\n",
       "    </tr>\n",
       "    <tr>\n",
       "        <td>KSC LC-39A</td>\n",
       "        <td>F9 B5 B1048.5</td>\n",
       "        <td>LEO</td>\n",
       "        <td>15600</td>\n",
       "        <td>Success</td>\n",
       "    </tr>\n",
       "</table>"
      ],
      "text/plain": [
       "[('CCAFS SLC-40', 'F9 B5 B1048.4', 'LEO', 15600, 'Success'),\n",
       " ('CCAFS SLC-40', 'F9 B5 B1049.4', 'LEO', 15600, 'Success'),\n",
       " ('CCAFS SLC-40', 'F9 B5 B1051.3', 'LEO', 15600, 'Success'),\n",
       " ('CCAFS SLC-40', 'F9 B5 B1056.4', 'LEO', 15600, 'Success'),\n",
       " ('KSC LC-39A', 'F9 B5 B1048.5', 'LEO', 15600, 'Success')]"
      ]
     },
     "execution_count": 25,
     "metadata": {},
     "output_type": "execute_result"
    }
   ],
   "source": [
    "\n",
    "%%sql \n",
    "SELECT Launch_Site, Booster_Version, Orbit, PAYLOAD_MASS__KG_ AS Payload_kg, Mission_Outcome\n",
    "     FROM SPACEXTABLE\n",
    "     WHERE PAYLOAD_MASS__KG_ IS NOT NULL\n",
    "     ORDER BY Payload_kg DESC\n",
    "     LIMIT 5;"
   ]
  },
  {
   "cell_type": "markdown",
   "id": "97619a56",
   "metadata": {},
   "source": [
    "## 12) Launch Counts by Year"
   ]
  },
  {
   "cell_type": "code",
   "execution_count": 26,
   "id": "5525e95e",
   "metadata": {},
   "outputs": [
    {
     "name": "stdout",
     "output_type": "stream",
     "text": [
      " * sqlite:///my_spacex.db\n",
      "Done.\n"
     ]
    },
    {
     "data": {
      "text/html": [
       "<table>\n",
       "    <tr>\n",
       "        <th>Year</th>\n",
       "        <th>Launches</th>\n",
       "    </tr>\n",
       "    <tr>\n",
       "        <td>2010</td>\n",
       "        <td>2</td>\n",
       "    </tr>\n",
       "    <tr>\n",
       "        <td>2012</td>\n",
       "        <td>2</td>\n",
       "    </tr>\n",
       "    <tr>\n",
       "        <td>2013</td>\n",
       "        <td>3</td>\n",
       "    </tr>\n",
       "    <tr>\n",
       "        <td>2014</td>\n",
       "        <td>6</td>\n",
       "    </tr>\n",
       "    <tr>\n",
       "        <td>2015</td>\n",
       "        <td>7</td>\n",
       "    </tr>\n",
       "    <tr>\n",
       "        <td>2016</td>\n",
       "        <td>8</td>\n",
       "    </tr>\n",
       "    <tr>\n",
       "        <td>2017</td>\n",
       "        <td>18</td>\n",
       "    </tr>\n",
       "    <tr>\n",
       "        <td>2018</td>\n",
       "        <td>20</td>\n",
       "    </tr>\n",
       "    <tr>\n",
       "        <td>2019</td>\n",
       "        <td>11</td>\n",
       "    </tr>\n",
       "    <tr>\n",
       "        <td>2020</td>\n",
       "        <td>24</td>\n",
       "    </tr>\n",
       "</table>"
      ],
      "text/plain": [
       "[('2010', 2),\n",
       " ('2012', 2),\n",
       " ('2013', 3),\n",
       " ('2014', 6),\n",
       " ('2015', 7),\n",
       " ('2016', 8),\n",
       " ('2017', 18),\n",
       " ('2018', 20),\n",
       " ('2019', 11),\n",
       " ('2020', 24)]"
      ]
     },
     "execution_count": 26,
     "metadata": {},
     "output_type": "execute_result"
    }
   ],
   "source": [
    "\n",
    "%%sql \n",
    "SELECT SUBSTR(Date, 1, 4) AS Year, COUNT(*) AS Launches\n",
    "     FROM SPACEXTABLE\n",
    "     GROUP BY Year\n",
    "     ORDER BY Year;"
   ]
  },
  {
   "cell_type": "code",
   "execution_count": null,
   "id": "0e5ac834",
   "metadata": {},
   "outputs": [],
   "source": []
  }
 ],
 "metadata": {
  "kernelspec": {
   "display_name": "base",
   "language": "python",
   "name": "python3"
  },
  "language_info": {
   "codemirror_mode": {
    "name": "ipython",
    "version": 3
   },
   "file_extension": ".py",
   "mimetype": "text/x-python",
   "name": "python",
   "nbconvert_exporter": "python",
   "pygments_lexer": "ipython3",
   "version": "3.12.3"
  }
 },
 "nbformat": 4,
 "nbformat_minor": 5
}
